{
  "nbformat": 4,
  "nbformat_minor": 0,
  "metadata": {
    "colab": {
      "provenance": []
    },
    "kernelspec": {
      "name": "python3",
      "display_name": "Python 3"
    },
    "language_info": {
      "name": "python"
    }
  },
  "cells": [
    {
      "cell_type": "markdown",
      "source": [
        "Fonksiyon Yapısı ve İf, Else, Elif"
      ],
      "metadata": {
        "id": "KTCXxaD04gO9"
      }
    },
    {
      "cell_type": "code",
      "execution_count": null,
      "metadata": {
        "id": "A08e_iBtxClB"
      },
      "outputs": [],
      "source": [
        "def complex_calculate(x, y, z, operation='+'):\n",
        "    if operation == '+':\n",
        "        result = (x + y) * z\n",
        "    elif operation == '-':\n",
        "        result = (x - y) * z\n",
        "    elif operation == '*':\n",
        "        result = (x * y) / z\n",
        "    elif operation == '/':\n",
        "        result = (x / y) + z\n",
        "    else:\n",
        "        result = \"Geçersiz işlem!\"\n",
        "\n",
        "    return x, y, z, result"
      ]
    },
    {
      "cell_type": "code",
      "source": [
        "x1, y1, z1, result1 = complex_calculate(10, 5, 6)\n",
        "print(x1)\n",
        "print(y1)\n",
        "print(z1)\n",
        "print(result1)"
      ],
      "metadata": {
        "id": "R3l_UkOIF7Dc",
        "colab": {
          "base_uri": "https://localhost:8080/"
        },
        "outputId": "b5c2303d-72af-47d0-a63d-f58c554a3010"
      },
      "execution_count": null,
      "outputs": [
        {
          "output_type": "stream",
          "name": "stdout",
          "text": [
            "10\n",
            "5\n",
            "6\n",
            "Geçersiz işlem!\n"
          ]
        }
      ]
    },
    {
      "cell_type": "markdown",
      "source": [
        "For Döngüsü Yapısı"
      ],
      "metadata": {
        "id": "jrdOG4YU80Rv"
      }
    },
    {
      "cell_type": "code",
      "source": [
        "def letter_counter(sentence, letter):\n",
        "    count = 0\n",
        "    for lttr in sentence:\n",
        "        if letter == lttr:\n",
        "            count = count + 1\n",
        "\n",
        "    return count\n",
        "\n",
        "sentence = \"Python programlama dilini öğrenirken, fonksiyonları kullanmak oldukça önemlidir çünkü bu, kodunuzu daha organize hale getirmenize ve tekrar kullanılabilir hale getirmenize yardımcı olur.\"\n",
        "letter_counter(sentence, \"e\")"
      ],
      "metadata": {
        "id": "3tshYqeQ6lU2",
        "colab": {
          "base_uri": "https://localhost:8080/"
        },
        "outputId": "1eb35967-e71e-489d-c7f3-aaec7e26b454"
      },
      "execution_count": null,
      "outputs": [
        {
          "output_type": "execute_result",
          "data": {
            "text/plain": [
              "14"
            ]
          },
          "metadata": {},
          "execution_count": 5
        }
      ]
    },
    {
      "cell_type": "markdown",
      "source": [
        "While Döngüsü Yapısı"
      ],
      "metadata": {
        "id": "yDOVV5kW8vCI"
      }
    },
    {
      "cell_type": "code",
      "source": [
        "def factorial(n):\n",
        "    result = 1\n",
        "    while n > 0:\n",
        "        result *= n\n",
        "        n -= 1\n",
        "    return result\n",
        "\n",
        "sayi = 5\n",
        "sonuc = factorial(sayi)\n",
        "print(f\"{sayi} faktoriyeli: {sonuc}\")"
      ],
      "metadata": {
        "id": "bxoNSjok8uJv",
        "colab": {
          "base_uri": "https://localhost:8080/"
        },
        "outputId": "ad80e952-e720-4ab8-e6a2-e81f4176366a"
      },
      "execution_count": null,
      "outputs": [
        {
          "output_type": "stream",
          "name": "stdout",
          "text": [
            "5 faktoriyeli: 120\n"
          ]
        }
      ]
    },
    {
      "cell_type": "markdown",
      "source": [
        "Enumerate Yapısı"
      ],
      "metadata": {
        "id": "ya2ySoRe9P7Y"
      }
    },
    {
      "cell_type": "code",
      "source": [
        "students = [\n",
        "    {\"name\": \"Ahmet\", \"grade\": 90},\n",
        "    {\"name\": \"Mehmet\", \"grade\": 85},\n",
        "    {\"name\": \"Ayşe\", \"grade\": 95},\n",
        "    {\"name\": \"Fatma\", \"grade\": 88}\n",
        "]\n",
        "\n",
        "high_scorers = []\n",
        "\n",
        "for index, student in enumerate(students):\n",
        "    if student[\"grade\"] > 90:\n",
        "        print(f'Öğrenci {student[\"name\"]}, notu {student[\"grade\"]}. İndeks: {index}')"
      ],
      "metadata": {
        "id": "rLm5SF8Z9SIb",
        "colab": {
          "base_uri": "https://localhost:8080/"
        },
        "outputId": "12403ee3-2f13-4639-92b3-959d0d4efedf"
      },
      "execution_count": null,
      "outputs": [
        {
          "output_type": "stream",
          "name": "stdout",
          "text": [
            "Öğrenci Ayşe, notu 95. İndeks: 2\n"
          ]
        }
      ]
    },
    {
      "cell_type": "markdown",
      "source": [
        "Zip Fonksiyonu Kullanımı"
      ],
      "metadata": {
        "id": "ODadNLg6ALpc"
      }
    },
    {
      "cell_type": "code",
      "source": [
        "students = [\"Alice\", \"Bob\", \"Elena\"]\n",
        "courses = [\"chemistry\", \"computer science\", \"biology\", \"engineering\"]\n",
        "ages = [20, 24, 21, 22]\n",
        "\n",
        "student_info = list(zip(students, courses, ages))\n",
        "student_info"
      ],
      "metadata": {
        "id": "cG1wcrUnAKwu",
        "colab": {
          "base_uri": "https://localhost:8080/"
        },
        "outputId": "4f59d5e4-2e79-44c5-c1ef-dd53d01dba84"
      },
      "execution_count": null,
      "outputs": [
        {
          "output_type": "execute_result",
          "data": {
            "text/plain": [
              "[('Alice', 'chemistry', 20),\n",
              " ('Bob', 'computer science', 24),\n",
              " ('Elena', 'biology', 21)]"
            ]
          },
          "metadata": {},
          "execution_count": 9
        }
      ]
    },
    {
      "cell_type": "markdown",
      "source": [
        "Map ve Filter ile lambda kullanımı"
      ],
      "metadata": {
        "id": "sDXEgeh4BOUI"
      }
    },
    {
      "cell_type": "code",
      "source": [
        "numbers = [1, 2, 3, 4, 5]\n",
        "squared_numbers = list(map(lambda x: x ** 2, numbers))\n",
        "print(squared_numbers)\n",
        "\n",
        "#squared_numbers2 = [x ** 2 for x in numbers]"
      ],
      "metadata": {
        "id": "2LZsq8mdBFRN",
        "colab": {
          "base_uri": "https://localhost:8080/"
        },
        "outputId": "eb001292-49df-4bb9-f46e-510d6a0a0715"
      },
      "execution_count": null,
      "outputs": [
        {
          "output_type": "stream",
          "name": "stdout",
          "text": [
            "[1, 4, 9, 16, 25]\n"
          ]
        }
      ]
    },
    {
      "cell_type": "code",
      "source": [
        "numbers = [11, 22, 35, 48, 57, 60, 73, 86]\n",
        "even_numbers = list(filter(lambda x: x % 2 == 0, numbers))\n",
        "print(even_numbers)\n",
        "\n",
        "#even_numbers = [x for x in numbers if x % 2 == 0]"
      ],
      "metadata": {
        "id": "g2s_mz_pCHrN",
        "colab": {
          "base_uri": "https://localhost:8080/"
        },
        "outputId": "1196d938-e032-4797-8b8d-18ccd5062266"
      },
      "execution_count": null,
      "outputs": [
        {
          "output_type": "stream",
          "name": "stdout",
          "text": [
            "[22, 48, 60, 86]\n"
          ]
        }
      ]
    }
  ]
}