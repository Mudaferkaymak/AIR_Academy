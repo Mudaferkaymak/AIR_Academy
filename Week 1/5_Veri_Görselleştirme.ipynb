{
  "nbformat": 4,
  "nbformat_minor": 0,
  "metadata": {
    "colab": {
      "provenance": []
    },
    "kernelspec": {
      "name": "python3",
      "display_name": "Python 3"
    },
    "language_info": {
      "name": "python"
    }
  },
  "cells": [
    {
      "cell_type": "code",
      "source": [
        "import pandas as pd\n",
        "import numpy as np\n",
        "import seaborn as sns\n",
        "import matplotlib.pyplot as plt"
      ],
      "metadata": {
        "id": "EqhKtFyq71A6"
      },
      "execution_count": null,
      "outputs": []
    },
    {
      "cell_type": "code",
      "execution_count": null,
      "metadata": {
        "id": "6cVVuevX606N"
      },
      "outputs": [],
      "source": [
        "\n",
        "df = sns.load_dataset(\"titanic\")\n",
        "df.head()\n",
        "\n"
      ]
    },
    {
      "cell_type": "markdown",
      "source": [
        "Kategorik Degisken Gorsellestirme"
      ],
      "metadata": {
        "id": "1cz5rVPGrukQ"
      }
    },
    {
      "cell_type": "code",
      "source": [
        "df[[\"sex\", \"embarked\"]].value_counts().plot(kind='bar')\n"
      ],
      "metadata": {
        "id": "F8VmuWPc7Din"
      },
      "execution_count": null,
      "outputs": []
    },
    {
      "cell_type": "markdown",
      "source": [
        "Sayisal Degisken Gérsellestirme"
      ],
      "metadata": {
        "id": "hx1NJwgmrwEy"
      }
    },
    {
      "cell_type": "code",
      "source": [
        "plt.boxplot(df[\"fare\"])\n",
        "plt.show()\n",
        "\n",
        "plt.hist(df[\"age\"])\n",
        "plt.show()"
      ],
      "metadata": {
        "id": "PKNPvXe5r1l_"
      },
      "execution_count": null,
      "outputs": []
    },
    {
      "cell_type": "markdown",
      "source": [
        "Matplotlib'in özellikleri"
      ],
      "metadata": {
        "id": "yVXd4J4jr5pz"
      }
    },
    {
      "cell_type": "code",
      "source": [
        "x = np.array([1, 8])\n",
        "y = np.array([0, 150])\n",
        "\n",
        "plt.plot(x, y)\n",
        "plt.show()\n",
        "\n",
        "plt.plot(x, y, 'o')\n",
        "plt.show()\n",
        "\n",
        "x = np.array([2, 4, 6, 8, 10])\n",
        "y = np.array([1, 3, 5, 7, 9])\n",
        "\n",
        "plt.plot(x, y)\n",
        "plt.show()\n",
        "\n",
        "plt.plot(x, y, 'o')\n",
        "plt.show()"
      ],
      "metadata": {
        "id": "kYf6dSgs7QwI"
      },
      "execution_count": null,
      "outputs": []
    },
    {
      "cell_type": "code",
      "source": [
        "y = np.array([13, 28, 11, 100])\n",
        "\n",
        "plt.plot(y, marker = 'o')\n",
        "plt.show()\n",
        "\n",
        "plt.plot(y, marker = '*')\n",
        "plt.show()\n"
      ],
      "metadata": {
        "id": "atNntvxc8CV2"
      },
      "execution_count": null,
      "outputs": []
    },
    {
      "cell_type": "code",
      "source": [
        "y = np.array([13, 28, 11, 100])\n",
        "plt.plot(y, linestyle=\"dashdot\", color=\"r\")\n",
        "plt.show()\n",
        "\n",
        "x = np.array([23, 18, 31, 10])\n",
        "y = np.array([13, 28, 11, 100])\n",
        "plt.plot(x)\n",
        "plt.plot(y)\n",
        "plt.show()\n",
        "\n",
        "x = np.array([80, 85, 90, 95, 100, 105, 110, 115, 120, 125])\n",
        "y = np.array([240, 250, 260, 270, 280, 290, 300, 310, 320, 330])\n",
        "\n",
        "#başlık\n",
        "plt.title(\"Bu ana baslık\")\n",
        "\n",
        "# X eksenini isimlendirme\n",
        "plt.xlabel(\"X ekseni isimlendirmesi\")\n",
        "\n",
        "#y ekseni isimlendirme\n",
        "plt.ylabel(\"Y ekseni isimLendirmesi\")\n",
        "plt.plot(x)\n",
        "plt.plot(y)\n",
        "plt.grid()\n",
        "plt.show()"
      ],
      "metadata": {
        "id": "6f0GnnbK8Mko"
      },
      "execution_count": null,
      "outputs": []
    },
    {
      "cell_type": "code",
      "source": [
        "np.array([80, 85, 90, 95, 100, 105, 110, 115, 126, 125])\n",
        "np.array([240, 250, 260, 270, 280, 290, 300, 310, 320, 330])\n",
        "plt.subplot(1, 2, 1)  #bir satırlık 2 sütunluk bir grafik oluşturacağım, bunun birincisi...\n",
        "\n",
        "plt.title(\"1\")\n",
        "plt.plot(x, y)\n",
        "plt.show()"
      ],
      "metadata": {
        "id": "g3F5aFLi83r3"
      },
      "execution_count": null,
      "outputs": []
    }
  ]
}