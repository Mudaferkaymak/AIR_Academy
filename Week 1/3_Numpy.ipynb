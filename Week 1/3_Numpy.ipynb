{
  "nbformat": 4,
  "nbformat_minor": 0,
  "metadata": {
    "colab": {
      "provenance": []
    },
    "kernelspec": {
      "name": "python3",
      "display_name": "Python 3"
    },
    "language_info": {
      "name": "python"
    }
  },
  "cells": [
    {
      "cell_type": "code",
      "source": [
        "import numpy as np"
      ],
      "metadata": {
        "id": "tZjN1K0_Xc2p"
      },
      "execution_count": null,
      "outputs": []
    },
    {
      "cell_type": "code",
      "execution_count": null,
      "metadata": {
        "id": "RWp8dK_bDEh_",
        "colab": {
          "base_uri": "https://localhost:8080/"
        },
        "outputId": "65b7ff1c-c4d3-4f05-e5d9-3bb941dea764"
      },
      "outputs": [
        {
          "output_type": "stream",
          "name": "stdout",
          "text": [
            "[18, 56, 18, 10]\n",
            "[18 56 18 10]\n"
          ]
        }
      ],
      "source": [
        "\n",
        "\n",
        "a = [6, 8, 2, 10]\n",
        "b = [3, 7, 9, 1]\n",
        "ab = []\n",
        "\n",
        "for i in range(0, len(a)):\n",
        "    ab.append(a[i] * b[i])\n",
        "\n",
        "print(ab)\n",
        "\n",
        "a = np.array([6, 8, 2, 10])\n",
        "b = np.array([3, 7, 9, 1])\n",
        "\n",
        "result = a * b\n",
        "print(result)"
      ]
    },
    {
      "cell_type": "markdown",
      "source": [
        "Numpy Arrayi Oluşturma"
      ],
      "metadata": {
        "id": "i-j_x2ufur4_"
      }
    },
    {
      "cell_type": "code",
      "source": [
        "liste = [1, 2, 3, 4, 5]\n",
        "\n",
        "np_arr = np.array(liste)\n",
        "type(np_arr)\n",
        "\n",
        "np_zeros = np.zeros(10, dtype=int)\n",
        "print(np_zeros)\n",
        "\n",
        "np_rand = np.random.randint(0, 10, size=10)\n",
        "print(np_rand)\n",
        "\n",
        "np_matrix = np.random.normal(10, 4, (3, 4))\n",
        "print(np_matrix)"
      ],
      "metadata": {
        "id": "kQSvCuyA0wbV",
        "colab": {
          "base_uri": "https://localhost:8080/"
        },
        "outputId": "358df183-9944-4b0e-9680-d5271f8ba34f"
      },
      "execution_count": null,
      "outputs": [
        {
          "output_type": "stream",
          "name": "stdout",
          "text": [
            "[0 0 0 0 0 0 0 0 0 0]\n",
            "[4 8 2 2 4 1 9 0 7 4]\n",
            "[[ 7.04190644  5.31007543 13.10327133 12.30753018]\n",
            " [ 4.64781009  8.42824452  7.62290081  3.75273553]\n",
            " [ 6.28391115  5.65251183  9.75937108  7.14755699]]\n"
          ]
        }
      ]
    },
    {
      "cell_type": "code",
      "source": [
        "# ndim: boyut sayis1\n",
        "# shape: boyut bilgisi\n",
        "# size: toplam eleman sayis1\n",
        "# dtype: array veri tipi\n",
        "\n",
        "a = np.random.normal(12, 4, (5, 2))\n",
        "print(a)\n",
        "print(a.ndim)\n",
        "print(a.shape)\n",
        "print(a.size)\n",
        "print(a.dtype)"
      ],
      "metadata": {
        "id": "d0m_W9rp1rQg",
        "colab": {
          "base_uri": "https://localhost:8080/"
        },
        "outputId": "82db2efd-f129-429e-e404-e7478bd109c8"
      },
      "execution_count": null,
      "outputs": [
        {
          "output_type": "stream",
          "name": "stdout",
          "text": [
            "[[17.8328217   9.4863729 ]\n",
            " [10.34259483  3.838807  ]\n",
            " [10.1013822   8.754135  ]\n",
            " [10.09435977 10.33179196]\n",
            " [11.46523016  5.95093207]]\n",
            "2\n",
            "(5, 2)\n",
            "10\n",
            "float64\n"
          ]
        }
      ]
    },
    {
      "cell_type": "code",
      "source": [
        "ar = np.random.randint(1, 10, size=12)\n",
        "ar\n",
        "ar.reshape(2, 6)"
      ],
      "metadata": {
        "id": "NV229wiE2LmL",
        "colab": {
          "base_uri": "https://localhost:8080/"
        },
        "outputId": "38de411d-d75c-49aa-8f62-bc5223715b2b"
      },
      "execution_count": null,
      "outputs": [
        {
          "output_type": "execute_result",
          "data": {
            "text/plain": [
              "array([[2, 5, 5, 1, 3, 1],\n",
              "       [1, 2, 9, 2, 7, 4]])"
            ]
          },
          "metadata": {},
          "execution_count": 17
        }
      ]
    },
    {
      "cell_type": "code",
      "source": [
        "m = np.random.randint(-3, 19, size=(3, 5))\n",
        "print(m)\n",
        "m[0, 0] = 2.9\n",
        "m[0, 0]\n",
        "m[:, 0]\n",
        "m[1, :]\n",
        "m[0:2, 0:3]\n"
      ],
      "metadata": {
        "id": "wjbGlFKw2cDN",
        "colab": {
          "base_uri": "https://localhost:8080/"
        },
        "outputId": "b81e3896-d2ff-4f07-f22b-f64d71ba78a2"
      },
      "execution_count": null,
      "outputs": [
        {
          "output_type": "stream",
          "name": "stdout",
          "text": [
            "[[10 15 16 -3 10]\n",
            " [ 6 17 16  5  3]\n",
            " [12  8 17  8 -2]]\n"
          ]
        },
        {
          "output_type": "execute_result",
          "data": {
            "text/plain": [
              "array([[ 2, 15, 16],\n",
              "       [ 6, 17, 16]])"
            ]
          },
          "metadata": {},
          "execution_count": 24
        }
      ]
    },
    {
      "cell_type": "markdown",
      "source": [
        "Fancy Index Kavramı"
      ],
      "metadata": {
        "id": "vd-mTINcwfhG"
      }
    },
    {
      "cell_type": "code",
      "source": [
        "v = np.arange(0, 48, 8)\n",
        "print(v)\n",
        "catch = [1, 2, 4]\n",
        "v[catch]"
      ],
      "metadata": {
        "id": "BVw5JFmt4lUS",
        "colab": {
          "base_uri": "https://localhost:8080/"
        },
        "outputId": "d1dcc036-2391-43e9-ae28-b1eace619bc8"
      },
      "execution_count": null,
      "outputs": [
        {
          "output_type": "stream",
          "name": "stdout",
          "text": [
            "[ 0  8 16 24 32 40]\n"
          ]
        },
        {
          "output_type": "execute_result",
          "data": {
            "text/plain": [
              "array([ 8, 16, 32])"
            ]
          },
          "metadata": {},
          "execution_count": 26
        }
      ]
    },
    {
      "cell_type": "markdown",
      "source": [
        "Koşullu İşlemler"
      ],
      "metadata": {
        "id": "rbfh8ALgxC33"
      }
    },
    {
      "cell_type": "code",
      "source": [
        "#normal\n",
        "v = np.array([1, 4, 9, 16, 25])\n",
        "ab = []\n",
        "for i in v:\n",
        "    if i < 9:\n",
        "        ab.append(i)\n",
        "print(ab)\n",
        "#numpy ile\n",
        "v < 9\n",
        "print(v[v < 9])\n",
        "v[v != 9]\n",
        "v[v == 9]\n",
        "v[v >= 9]"
      ],
      "metadata": {
        "id": "upgazFG_-HiS",
        "colab": {
          "base_uri": "https://localhost:8080/"
        },
        "outputId": "cb82cd4d-4f19-405f-ef26-b15191769e55"
      },
      "execution_count": null,
      "outputs": [
        {
          "output_type": "stream",
          "name": "stdout",
          "text": [
            "[1, 4]\n",
            "[1 4]\n"
          ]
        },
        {
          "output_type": "execute_result",
          "data": {
            "text/plain": [
              "array([ 9, 16, 25])"
            ]
          },
          "metadata": {},
          "execution_count": 32
        }
      ]
    },
    {
      "cell_type": "markdown",
      "source": [
        "Matematiksel İşlemler"
      ],
      "metadata": {
        "id": "B5-BZ80-xjcM"
      }
    },
    {
      "cell_type": "code",
      "source": [
        "import numpy as np\n",
        "\n",
        "v = np.array([1, 2, 3, 4, 5])\n",
        "v / 5\n",
        "\n",
        "v * 5 / 10\n",
        "v ** 2\n",
        "v - 1\n",
        "\n",
        "np.subtract(v, 7)\n",
        "np.add(v, 1)\n",
        "np.mean(v)\n",
        "np.sum(v)\n",
        "np.min(v)\n",
        "np.max(v)\n",
        "np.var(v)"
      ],
      "metadata": {
        "id": "4CLqH-o7-tip",
        "colab": {
          "base_uri": "https://localhost:8080/"
        },
        "outputId": "36b03624-be7e-4bf8-ad99-d21716fbd536"
      },
      "execution_count": null,
      "outputs": [
        {
          "output_type": "execute_result",
          "data": {
            "text/plain": [
              "array([-6, -5, -4, -3, -2])"
            ]
          },
          "metadata": {},
          "execution_count": 46
        }
      ]
    }
  ]
}