{
  "nbformat": 4,
  "nbformat_minor": 0,
  "metadata": {
    "colab": {
      "provenance": [],
      "toc_visible": true
    },
    "kernelspec": {
      "name": "python3",
      "display_name": "Python 3"
    },
    "language_info": {
      "name": "python"
    }
  },
  "cells": [
    {
      "cell_type": "markdown",
      "source": [
        "1) VERİ YAPILARI\n",
        "\n",
        "> a) Sayılar\n"
      ],
      "metadata": {
        "id": "VhESr2lbHOj-"
      }
    },
    {
      "cell_type": "code",
      "source": [
        "a = 10\n",
        "b = 32.48\n",
        "\n",
        "print(\"int:\", a)\n",
        "print(\"float:\", b)"
      ],
      "metadata": {
        "id": "M7TSHOFaHRZm",
        "colab": {
          "base_uri": "https://localhost:8080/"
        },
        "outputId": "dedc4be6-2e97-46e8-fdd4-27fb482e3799"
      },
      "execution_count": null,
      "outputs": [
        {
          "output_type": "stream",
          "name": "stdout",
          "text": [
            "int: 10\n",
            "float: 32.48\n"
          ]
        }
      ]
    },
    {
      "cell_type": "markdown",
      "source": [
        "Tip kontrolü ve değişimi"
      ],
      "metadata": {
        "id": "lk21DfGvINw9"
      }
    },
    {
      "cell_type": "code",
      "source": [
        "print(\"a'nin tipi\", type(a))\n",
        "print(\"b'nin tipi\", type(b))"
      ],
      "metadata": {
        "id": "J23qvNwDIWZ9",
        "colab": {
          "base_uri": "https://localhost:8080/"
        },
        "outputId": "730be0cd-87af-4b88-99a4-9aefa2eb8bb0"
      },
      "execution_count": null,
      "outputs": [
        {
          "output_type": "stream",
          "name": "stdout",
          "text": [
            "a'nin tipi <class 'int'>\n",
            "b'nin tipi <class 'float'>\n"
          ]
        }
      ]
    },
    {
      "cell_type": "code",
      "source": [
        "print(\"a:\", float(a))\n",
        "print(\"b:\", int(b))"
      ],
      "metadata": {
        "id": "ECEXE6fhI0Zg",
        "colab": {
          "base_uri": "https://localhost:8080/"
        },
        "outputId": "fac37c3b-e13d-44ab-a01d-66e4b35de9ee"
      },
      "execution_count": null,
      "outputs": [
        {
          "output_type": "stream",
          "name": "stdout",
          "text": [
            "a: 10.0\n",
            "b: 32\n"
          ]
        }
      ]
    },
    {
      "cell_type": "markdown",
      "source": [
        "> b) Karakter Dizileri (Strings)"
      ],
      "metadata": {
        "id": "sOu1DYtcJLGM"
      }
    },
    {
      "cell_type": "code",
      "source": [
        "print(\"Sky Lab\\n\")\n",
        "print('Sky Lab\\n')\n",
        "\n",
        "satirli_metin = \"\"\"Güneşli bir gün,\n",
        "parkta kuşların şarkıları eşliğinde keyifli bir\n",
        "yürüyüş yapmak harika bir deneyimdir\\n\"\"\"\n",
        "\n",
        "print(satirli_metin)"
      ],
      "metadata": {
        "id": "W9B6vPDhJVzh",
        "colab": {
          "base_uri": "https://localhost:8080/"
        },
        "outputId": "275047be-2fb7-41a5-90fa-5c151405a3e5"
      },
      "execution_count": null,
      "outputs": [
        {
          "output_type": "stream",
          "name": "stdout",
          "text": [
            "Sky Lab\n",
            "\n",
            "Sky Lab\n",
            "\n",
            "Güneşli bir gün,\n",
            "parkta kuşların şarkıları eşliğinde keyifli bir\n",
            "yürüyüş yapmak harika bir deneyimdir\n",
            "\n"
          ]
        }
      ]
    },
    {
      "cell_type": "markdown",
      "source": [
        "String dizide elemana erişmek"
      ],
      "metadata": {
        "id": "AEqBABxXKIXk"
      }
    },
    {
      "cell_type": "code",
      "source": [
        "kelime = \"Makine Öğrenmesi\"\n",
        "print(kelime[0])\n",
        "print(kelime[6])\n",
        "print(kelime[12])\n",
        "print(kelime[15])\n",
        "print(len(kelime))\n"
      ],
      "metadata": {
        "id": "bKRfkdLHKPWp",
        "colab": {
          "base_uri": "https://localhost:8080/"
        },
        "outputId": "e78688b1-cc27-41d8-9627-c67293525249"
      },
      "execution_count": null,
      "outputs": [
        {
          "output_type": "stream",
          "name": "stdout",
          "text": [
            "M\n",
            " \n",
            "m\n",
            "i\n",
            "16\n"
          ]
        }
      ]
    },
    {
      "cell_type": "markdown",
      "source": [
        "String dizide belirli bir parçayı ayırma işlemi"
      ],
      "metadata": {
        "id": "Gafkn8ZoK305"
      }
    },
    {
      "cell_type": "code",
      "source": [
        "print(kelime[0:2], \"\\n\")\n",
        "print(kelime[:5], \"\\n\")\n",
        "print(kelime[0:], \"\\n\")\n",
        "print(satirli_metin[4:20])"
      ],
      "metadata": {
        "id": "lMAZ1qa5LEKg",
        "colab": {
          "base_uri": "https://localhost:8080/"
        },
        "outputId": "f54f6c4a-bf76-4c78-f64d-b90b3ec6f859"
      },
      "execution_count": null,
      "outputs": [
        {
          "output_type": "stream",
          "name": "stdout",
          "text": [
            "Ma \n",
            "\n",
            "Makin \n",
            "\n",
            "Makine Öğrenmesi \n",
            "\n",
            "şli bir gün,\n",
            "par\n"
          ]
        }
      ]
    },
    {
      "cell_type": "markdown",
      "source": [
        "String içerisinde karakter sorgulamak"
      ],
      "metadata": {
        "id": "rkoe73Q4MAVM"
      }
    },
    {
      "cell_type": "code",
      "source": [
        "print(satirli_metin)\n",
        "print(\"veri\" in satirli_metin)\n",
        "print(\"bir\" in satirli_metin)"
      ],
      "metadata": {
        "id": "5qcVLmTrMBGa",
        "colab": {
          "base_uri": "https://localhost:8080/"
        },
        "outputId": "a9988543-029e-408b-bafd-5cff9e31544a"
      },
      "execution_count": null,
      "outputs": [
        {
          "output_type": "stream",
          "name": "stdout",
          "text": [
            "Güneşli bir gün,\n",
            "parkta kuşların şarkıları eşliğinde keyifli bir\n",
            "yürüyüş yapmak harika bir deneyimdir\n",
            "\n",
            "False\n",
            "True\n"
          ]
        }
      ]
    },
    {
      "cell_type": "markdown",
      "source": [
        "String dizileri methodları"
      ],
      "metadata": {
        "id": "n10GmiFUMXkz"
      }
    },
    {
      "cell_type": "code",
      "source": [
        "type(\"cfenkcjbekhcbk\")\n",
        "dir(str)"
      ],
      "metadata": {
        "id": "GAY4T9sQMdaa",
        "colab": {
          "base_uri": "https://localhost:8080/"
        },
        "outputId": "85450b05-815d-4d6f-f3cb-3507e2574d87"
      },
      "execution_count": null,
      "outputs": [
        {
          "output_type": "execute_result",
          "data": {
            "text/plain": [
              "['__add__',\n",
              " '__class__',\n",
              " '__contains__',\n",
              " '__delattr__',\n",
              " '__dir__',\n",
              " '__doc__',\n",
              " '__eq__',\n",
              " '__format__',\n",
              " '__ge__',\n",
              " '__getattribute__',\n",
              " '__getitem__',\n",
              " '__getnewargs__',\n",
              " '__gt__',\n",
              " '__hash__',\n",
              " '__init__',\n",
              " '__init_subclass__',\n",
              " '__iter__',\n",
              " '__le__',\n",
              " '__len__',\n",
              " '__lt__',\n",
              " '__mod__',\n",
              " '__mul__',\n",
              " '__ne__',\n",
              " '__new__',\n",
              " '__reduce__',\n",
              " '__reduce_ex__',\n",
              " '__repr__',\n",
              " '__rmod__',\n",
              " '__rmul__',\n",
              " '__setattr__',\n",
              " '__sizeof__',\n",
              " '__str__',\n",
              " '__subclasshook__',\n",
              " 'capitalize',\n",
              " 'casefold',\n",
              " 'center',\n",
              " 'count',\n",
              " 'encode',\n",
              " 'endswith',\n",
              " 'expandtabs',\n",
              " 'find',\n",
              " 'format',\n",
              " 'format_map',\n",
              " 'index',\n",
              " 'isalnum',\n",
              " 'isalpha',\n",
              " 'isascii',\n",
              " 'isdecimal',\n",
              " 'isdigit',\n",
              " 'isidentifier',\n",
              " 'islower',\n",
              " 'isnumeric',\n",
              " 'isprintable',\n",
              " 'isspace',\n",
              " 'istitle',\n",
              " 'isupper',\n",
              " 'join',\n",
              " 'ljust',\n",
              " 'lower',\n",
              " 'lstrip',\n",
              " 'maketrans',\n",
              " 'partition',\n",
              " 'removeprefix',\n",
              " 'removesuffix',\n",
              " 'replace',\n",
              " 'rfind',\n",
              " 'rindex',\n",
              " 'rjust',\n",
              " 'rpartition',\n",
              " 'rsplit',\n",
              " 'rstrip',\n",
              " 'split',\n",
              " 'splitlines',\n",
              " 'startswith',\n",
              " 'strip',\n",
              " 'swapcase',\n",
              " 'title',\n",
              " 'translate',\n",
              " 'upper',\n",
              " 'zfill']"
            ]
          },
          "metadata": {},
          "execution_count": 12
        }
      ]
    },
    {
      "cell_type": "markdown",
      "source": [
        "upper() ve lower()"
      ],
      "metadata": {
        "id": "H1cQjnDrfBD5"
      }
    },
    {
      "cell_type": "code",
      "source": [
        "print(\"python\".upper())\n",
        "print(\"PYTHON\".lower())"
      ],
      "metadata": {
        "id": "Wo0w6T3-evnD",
        "colab": {
          "base_uri": "https://localhost:8080/"
        },
        "outputId": "559c8259-1cbb-4bf4-8d38-2e99a7c5ddd8"
      },
      "execution_count": null,
      "outputs": [
        {
          "output_type": "stream",
          "name": "stdout",
          "text": [
            "PYTHON\n",
            "pythoni\n"
          ]
        }
      ]
    },
    {
      "cell_type": "markdown",
      "source": [
        "İlk harfi büyütmek => capitalize"
      ],
      "metadata": {
        "id": "6R36o_d9fZbA"
      }
    },
    {
      "cell_type": "code",
      "source": [
        "\"merhaba!\".capitalize()"
      ],
      "metadata": {
        "id": "ZeN_xI51e_HR",
        "colab": {
          "base_uri": "https://localhost:8080/",
          "height": 35
        },
        "outputId": "b74a3a44-2f24-409d-8131-ede7a0fa327c"
      },
      "execution_count": null,
      "outputs": [
        {
          "output_type": "execute_result",
          "data": {
            "text/plain": [
              "'Merhaba!'"
            ],
            "application/vnd.google.colaboratory.intrinsic+json": {
              "type": "string"
            }
          },
          "metadata": {},
          "execution_count": 18
        }
      ]
    },
    {
      "cell_type": "markdown",
      "source": [
        "kırpma işlemi => strip()"
      ],
      "metadata": {
        "id": "g2dNv4bIfh9_"
      }
    },
    {
      "cell_type": "code",
      "source": [
        "\" ofofo \".strip()\n",
        "\"ofofo\".strip(\"o\")"
      ],
      "metadata": {
        "id": "Ut3D6MeefVGr",
        "colab": {
          "base_uri": "https://localhost:8080/",
          "height": 35
        },
        "outputId": "72cf34ba-72e1-4877-edd5-5e32072d7fdb"
      },
      "execution_count": null,
      "outputs": [
        {
          "output_type": "execute_result",
          "data": {
            "text/plain": [
              "'fof'"
            ],
            "application/vnd.google.colaboratory.intrinsic+json": {
              "type": "string"
            }
          },
          "metadata": {},
          "execution_count": 20
        }
      ]
    },
    {
      "cell_type": "markdown",
      "source": [
        "kelimeleri ayırma işlemi => split()"
      ],
      "metadata": {
        "id": "vYsgJ9PHfn8f"
      }
    },
    {
      "cell_type": "code",
      "source": [
        "\"Pazar,sabahları,çok,keyiflidir\".split(\",\")"
      ],
      "metadata": {
        "id": "vd8b23q1fXIx",
        "colab": {
          "base_uri": "https://localhost:8080/"
        },
        "outputId": "5999936a-0b09-4c08-acbd-5ca93ce5d632"
      },
      "execution_count": null,
      "outputs": [
        {
          "output_type": "execute_result",
          "data": {
            "text/plain": [
              "['Pazar', 'sabahları', 'çok', 'keyiflidir']"
            ]
          },
          "metadata": {},
          "execution_count": 22
        }
      ]
    },
    {
      "cell_type": "markdown",
      "source": [
        "karakter değiştirme işlemi => replace()"
      ],
      "metadata": {
        "id": "sOFIqLzwf9qu"
      }
    },
    {
      "cell_type": "code",
      "source": [
        "\"Pazar sabahları çok keyiflidir\".replace(\"a\", \"o\")"
      ],
      "metadata": {
        "id": "PSOxFs-pfzqs",
        "colab": {
          "base_uri": "https://localhost:8080/",
          "height": 35
        },
        "outputId": "1d12f45b-4715-4b7d-bdac-f5356b4e584e"
      },
      "execution_count": null,
      "outputs": [
        {
          "output_type": "execute_result",
          "data": {
            "text/plain": [
              "'Pozor sobohlorı çok keyiflidir'"
            ],
            "application/vnd.google.colaboratory.intrinsic+json": {
              "type": "string"
            }
          },
          "metadata": {},
          "execution_count": 23
        }
      ]
    },
    {
      "cell_type": "markdown",
      "source": [
        "\n",
        "\n",
        "> c) Liste\n",
        "\n"
      ],
      "metadata": {
        "id": "-LqXdECwg27H"
      }
    },
    {
      "cell_type": "code",
      "source": [
        "notlar = [45, 87, 67, 40]\n",
        "type(notlar)\n",
        "\n",
        "isimler = [\"ali\", \"buse\", \"can\"]\n",
        "print(isimler)"
      ],
      "metadata": {
        "id": "ku2M-goag5-Z",
        "colab": {
          "base_uri": "https://localhost:8080/"
        },
        "outputId": "a6b2b544-b62c-474d-e2eb-a9e13b08b04e"
      },
      "execution_count": null,
      "outputs": [
        {
          "output_type": "stream",
          "name": "stdout",
          "text": [
            "['ali', 'buse', 'can']\n"
          ]
        }
      ]
    },
    {
      "cell_type": "code",
      "source": [
        "farkmaz = [1, 2, 3, \"ali\", \"buse\", [3, 2, 1], False]\n",
        "\n",
        "print(farkmaz[2])\n",
        "print(farkmaz[5])\n",
        "print(farkmaz[6])\n",
        "print(farkmaz[5][2])"
      ],
      "metadata": {
        "id": "npJmQwOKiMqe",
        "colab": {
          "base_uri": "https://localhost:8080/"
        },
        "outputId": "522c63b6-dd90-45ce-8692-363ac6a6087a"
      },
      "execution_count": null,
      "outputs": [
        {
          "output_type": "stream",
          "name": "stdout",
          "text": [
            "3\n",
            "[3, 2, 1]\n",
            "False\n",
            "1\n"
          ]
        }
      ]
    },
    {
      "cell_type": "code",
      "source": [
        "farkmaz[0] = 99\n",
        "print(farkmaz)"
      ],
      "metadata": {
        "id": "WtchPoN6i4DT",
        "colab": {
          "base_uri": "https://localhost:8080/"
        },
        "outputId": "7babdd68-d5a1-4eec-e14d-b9df89da99e9"
      },
      "execution_count": null,
      "outputs": [
        {
          "output_type": "stream",
          "name": "stdout",
          "text": [
            "[99, 2, 3, 'ali', 'buse', [3, 2, 1], False]\n"
          ]
        }
      ]
    },
    {
      "cell_type": "markdown",
      "source": [
        "list methodları"
      ],
      "metadata": {
        "id": "C5C3WcEXjF_e"
      }
    },
    {
      "cell_type": "code",
      "source": [
        "len(farkmaz)\n"
      ],
      "metadata": {
        "id": "Ct2dEkfZj71N"
      },
      "execution_count": null,
      "outputs": []
    },
    {
      "cell_type": "markdown",
      "source": [
        "eleman ekleme => append()"
      ],
      "metadata": {
        "id": "4GJluM0pkQ9A"
      }
    },
    {
      "cell_type": "code",
      "source": [
        "print(notlar)\n",
        "notlar.append(90)\n",
        "notlar\n",
        "notlar[6] = 6\n",
        "notlar"
      ],
      "metadata": {
        "id": "5_snMK5KkJIW",
        "colab": {
          "base_uri": "https://localhost:8080/"
        },
        "outputId": "67b3cde4-0aa0-4f6e-af96-45f6e82b2477"
      },
      "execution_count": null,
      "outputs": [
        {
          "output_type": "stream",
          "name": "stdout",
          "text": [
            "[45, 87, 67, 40, 90, 90, 6]\n"
          ]
        },
        {
          "output_type": "execute_result",
          "data": {
            "text/plain": [
              "[45, 87, 67, 40, 90, 90, 6, 90]"
            ]
          },
          "metadata": {},
          "execution_count": 32
        }
      ]
    },
    {
      "cell_type": "markdown",
      "source": [
        "indexe göre silme => pop()"
      ],
      "metadata": {
        "id": "veklCA8SkUL2"
      }
    },
    {
      "cell_type": "code",
      "source": [
        "notlar.pop(2)\n",
        "notlar"
      ],
      "metadata": {
        "id": "uiPnlbMokJ24",
        "colab": {
          "base_uri": "https://localhost:8080/"
        },
        "outputId": "56476f12-0cb0-439c-ba85-092740e9b7ad"
      },
      "execution_count": null,
      "outputs": [
        {
          "output_type": "execute_result",
          "data": {
            "text/plain": [
              "[45, 87, 40, 90, 90, 6, 90]"
            ]
          },
          "metadata": {},
          "execution_count": 33
        }
      ]
    },
    {
      "cell_type": "markdown",
      "source": [
        "indexe göre ekler => insert()"
      ],
      "metadata": {
        "id": "fC5qcMBTkZRo"
      }
    },
    {
      "cell_type": "code",
      "source": [
        "notlar.insert(2, \"AIR\")\n",
        "print(notlar)"
      ],
      "metadata": {
        "id": "_AzzCEzwkLqG",
        "colab": {
          "base_uri": "https://localhost:8080/"
        },
        "outputId": "ebe0aff9-02d0-4984-c40b-c54c4c5c792b"
      },
      "execution_count": null,
      "outputs": [
        {
          "output_type": "stream",
          "name": "stdout",
          "text": [
            "[45, 87, 'AIR', 40, 90, 90, 6, 90]\n"
          ]
        }
      ]
    },
    {
      "cell_type": "markdown",
      "source": [
        "\n",
        "\n",
        "> d) Sözlük(Dictionary)\n",
        "\n"
      ],
      "metadata": {
        "id": "RrzccUT8lmRW"
      }
    },
    {
      "cell_type": "code",
      "source": [
        "takimlar = {\"FB\": \"Fenerbahçe\",\n",
        "              \"GS\": \"Galatasaray\",\n",
        "              \"BJK\": \"Beşiktiş\"}\n",
        "\n",
        "print(takimlar[\"FB\"])"
      ],
      "metadata": {
        "id": "f0t5VhjsqIb-",
        "colab": {
          "base_uri": "https://localhost:8080/"
        },
        "outputId": "af6d7ebd-51c4-4de8-b370-2c852e63ecbc"
      },
      "execution_count": null,
      "outputs": [
        {
          "output_type": "stream",
          "name": "stdout",
          "text": [
            "Fenerbahçe\n"
          ]
        }
      ]
    },
    {
      "cell_type": "code",
      "source": [
        "takimlar = {\"FB\": [\"Fenerbahçe\", 1],\n",
        "              \"GS\": [\"Galatasaray\", 2],\n",
        "              \"BJK\": [\"Beşiktaş\", 3]}\n",
        "\n",
        "print(takimlar[\"GS\"][1])"
      ],
      "metadata": {
        "id": "tnQY0j-Mqmu5",
        "colab": {
          "base_uri": "https://localhost:8080/"
        },
        "outputId": "8647e2ed-b862-407e-8323-ecebe5c28394"
      },
      "execution_count": null,
      "outputs": [
        {
          "output_type": "stream",
          "name": "stdout",
          "text": [
            "2\n"
          ]
        }
      ]
    },
    {
      "cell_type": "markdown",
      "source": [
        "key sorgulama işlemi"
      ],
      "metadata": {
        "id": "rUSDOlOprLp1"
      }
    },
    {
      "cell_type": "code",
      "source": [
        "\"BJK\" in takimlar"
      ],
      "metadata": {
        "id": "MRK1-PLErHby",
        "colab": {
          "base_uri": "https://localhost:8080/"
        },
        "outputId": "1577a475-ce5a-4823-f1c8-aee45dde2881"
      },
      "execution_count": null,
      "outputs": [
        {
          "output_type": "execute_result",
          "data": {
            "text/plain": [
              "False"
            ]
          },
          "metadata": {},
          "execution_count": 38
        }
      ]
    },
    {
      "cell_type": "markdown",
      "source": [
        "key'e göre value'ya erişmek"
      ],
      "metadata": {
        "id": "Y0hf9I2irUfx"
      }
    },
    {
      "cell_type": "code",
      "source": [
        "print(takimlar[\"FB\"])\n",
        "print(takimlar.get(\"FB\"))"
      ],
      "metadata": {
        "id": "lMiKvty3rXXb",
        "colab": {
          "base_uri": "https://localhost:8080/"
        },
        "outputId": "e1fd310f-225c-4a44-dd57-122aeed95e52"
      },
      "execution_count": null,
      "outputs": [
        {
          "output_type": "stream",
          "name": "stdout",
          "text": [
            "['Fenerbahçe', 1]\n",
            "['Fenerbahçe', 1]\n"
          ]
        }
      ]
    },
    {
      "cell_type": "markdown",
      "source": [
        "Tüm valuelara erişmek"
      ],
      "metadata": {
        "id": "4HpUSTqMseDR"
      }
    },
    {
      "cell_type": "code",
      "source": [
        "takimlar.values()"
      ],
      "metadata": {
        "id": "iudGKk-wshDu",
        "colab": {
          "base_uri": "https://localhost:8080/"
        },
        "outputId": "ab8a50b7-2dc6-4035-dd5f-d0d95833ad8f"
      },
      "execution_count": null,
      "outputs": [
        {
          "output_type": "execute_result",
          "data": {
            "text/plain": [
              "dict_values([['Fenerbahçe', 1], ['Galatasaray', 2], ['Beşiktaş', 3]])"
            ]
          },
          "metadata": {},
          "execution_count": 40
        }
      ]
    },
    {
      "cell_type": "markdown",
      "source": [
        "Value değiştirmek"
      ],
      "metadata": {
        "id": "zwisaXgVri77"
      }
    },
    {
      "cell_type": "code",
      "source": [
        "takimlar[\"GS\"] = [\"GSS\", 6.0]\n",
        "takimlar"
      ],
      "metadata": {
        "id": "GzVogXrbroAb",
        "colab": {
          "base_uri": "https://localhost:8080/"
        },
        "outputId": "3076de67-232a-4e65-c129-1d6044efa717"
      },
      "execution_count": null,
      "outputs": [
        {
          "output_type": "execute_result",
          "data": {
            "text/plain": [
              "{'FB': ['Fenerbahçe', 1], 'GS': ['GSS', 6.0], 'BJK': ['Beşiktaş', 3]}"
            ]
          },
          "metadata": {},
          "execution_count": 41
        }
      ]
    },
    {
      "cell_type": "markdown",
      "source": [
        "key-value değerlerini güncellemek ve yeni değerler oluşturmak"
      ],
      "metadata": {
        "id": "DAHZblEer1o_"
      }
    },
    {
      "cell_type": "code",
      "source": [
        "takimlar.update({\"FB\": 11})\n",
        "takimlar.update({\"RF\": 13})\n",
        "\n",
        "takimlar"
      ],
      "metadata": {
        "id": "Armisei2r1Xi",
        "colab": {
          "base_uri": "https://localhost:8080/"
        },
        "outputId": "1a23b478-4050-434e-89ad-a2f80ae1d4d6"
      },
      "execution_count": null,
      "outputs": [
        {
          "output_type": "execute_result",
          "data": {
            "text/plain": [
              "{'FB': 11, 'GS': ['GSS', 6.0], 'BJK': ['Beşiktaş', 3], 'RF': 13}"
            ]
          },
          "metadata": {},
          "execution_count": 43
        }
      ]
    },
    {
      "cell_type": "markdown",
      "source": [
        "\n",
        "\n",
        "> e) Tuple\n",
        "\n"
      ],
      "metadata": {
        "id": "BV0jzK9jtDdI"
      }
    },
    {
      "cell_type": "code",
      "source": [
        "demet = (\"Sky\", \"Lab\", 1, 2, True)\n",
        "type(demet)\n",
        "\n",
        "print(demet[4])\n",
        "print(demet[0: 4])"
      ],
      "metadata": {
        "id": "8YJRKP2xtHZg",
        "colab": {
          "base_uri": "https://localhost:8080/"
        },
        "outputId": "0f420143-c0bc-479d-bb3a-6431d2607e52"
      },
      "execution_count": null,
      "outputs": [
        {
          "output_type": "stream",
          "name": "stdout",
          "text": [
            "True\n",
            "('Sky', 'Lab', 1, 2)\n"
          ]
        }
      ]
    },
    {
      "cell_type": "code",
      "source": [
        "print(demet)\n",
        "#demet[2] = 70\n",
        "\n",
        "demet = list(demet)\n",
        "demet[2] = 70\n",
        "print(demet)\n"
      ],
      "metadata": {
        "id": "oNG22ysatnA1",
        "colab": {
          "base_uri": "https://localhost:8080/"
        },
        "outputId": "fd6677d0-20d8-444f-d8bf-b0fd51d7e2b8"
      },
      "execution_count": null,
      "outputs": [
        {
          "output_type": "stream",
          "name": "stdout",
          "text": [
            "('Sky', 'Lab', 1, 2, True)\n",
            "['Sky', 'Lab', 70, 2, True]\n"
          ]
        }
      ]
    },
    {
      "cell_type": "markdown",
      "source": [
        "\n",
        "\n",
        "> f)Setler\n",
        "\n"
      ],
      "metadata": {
        "id": "0TE5Nb40uO4y"
      }
    },
    {
      "cell_type": "markdown",
      "source": [
        "difference(): iki kümenin farkı"
      ],
      "metadata": {
        "id": "h6rn3UU9vFRY"
      }
    },
    {
      "cell_type": "code",
      "source": [
        "set1 = set((1, 2, 5, 7, \"a\"))\n",
        "set2 = set((1, 2, 3, 8))\n",
        "\n",
        "set1.difference(set2)\n",
        "\n",
        "set2 - set1\n"
      ],
      "metadata": {
        "id": "Fn8kh7sfuSsT",
        "colab": {
          "base_uri": "https://localhost:8080/"
        },
        "outputId": "44cd9732-1906-4a8a-ba60-ca1093e3e7cc"
      },
      "execution_count": null,
      "outputs": [
        {
          "output_type": "execute_result",
          "data": {
            "text/plain": [
              "{3, 8}"
            ]
          },
          "metadata": {},
          "execution_count": 58
        }
      ]
    },
    {
      "cell_type": "markdown",
      "source": [
        "symmetric_difference(): iki kümede de birbirlerine göre olmayanlar"
      ],
      "metadata": {
        "id": "ot7qPPVJvScL"
      }
    },
    {
      "cell_type": "code",
      "source": [
        "set2.symmetric_difference(set1)"
      ],
      "metadata": {
        "id": "0uwDoEmivYMK",
        "colab": {
          "base_uri": "https://localhost:8080/"
        },
        "outputId": "0d6860b6-cfcf-470c-e4df-a6a930ca0a8c"
      },
      "execution_count": null,
      "outputs": [
        {
          "output_type": "execute_result",
          "data": {
            "text/plain": [
              "{3, 5, 7, 8, 'a'}"
            ]
          },
          "metadata": {},
          "execution_count": 52
        }
      ]
    },
    {
      "cell_type": "markdown",
      "source": [
        "intersection(): iki kümenin kesişimi"
      ],
      "metadata": {
        "id": "h-O90aOHvp9i"
      }
    },
    {
      "cell_type": "code",
      "source": [
        "set1.intersection(set2)"
      ],
      "metadata": {
        "id": "ThP9keCuvo2d",
        "colab": {
          "base_uri": "https://localhost:8080/"
        },
        "outputId": "177cb8d9-1062-46d7-eaa5-8b27295cd928"
      },
      "execution_count": null,
      "outputs": [
        {
          "output_type": "execute_result",
          "data": {
            "text/plain": [
              "{1, 2}"
            ]
          },
          "metadata": {},
          "execution_count": 53
        }
      ]
    },
    {
      "cell_type": "markdown",
      "source": [
        "union(): iki kümenin birleşimi"
      ],
      "metadata": {
        "id": "JuLRLM3ovswF"
      }
    },
    {
      "cell_type": "code",
      "source": [
        "set1.union(set2)"
      ],
      "metadata": {
        "id": "VW3GN9nFvvp5",
        "colab": {
          "base_uri": "https://localhost:8080/"
        },
        "outputId": "1e5e2661-ea2e-4ba6-9ceb-3edc1c42880b"
      },
      "execution_count": null,
      "outputs": [
        {
          "output_type": "execute_result",
          "data": {
            "text/plain": [
              "{1, 2, 3, 5, 7, 8, 'a'}"
            ]
          },
          "metadata": {},
          "execution_count": 54
        }
      ]
    },
    {
      "cell_type": "markdown",
      "source": [
        "isdisjoint(): iki kümenin kesişimi boş mu"
      ],
      "metadata": {
        "id": "SJAJQkR-vyrJ"
      }
    },
    {
      "cell_type": "code",
      "source": [
        "set1 = set((3, 4))\n",
        "set2 = set(( 3, 4, 7, 1))\n",
        "\n",
        "set1.isdisjoint(set2)"
      ],
      "metadata": {
        "id": "R8VRBFprv0nX",
        "colab": {
          "base_uri": "https://localhost:8080/"
        },
        "outputId": "a5d6733d-0a67-4b8a-9211-c524bdadd378"
      },
      "execution_count": null,
      "outputs": [
        {
          "output_type": "execute_result",
          "data": {
            "text/plain": [
              "False"
            ]
          },
          "metadata": {},
          "execution_count": 60
        }
      ]
    },
    {
      "cell_type": "markdown",
      "source": [
        "issubset(): bir küme diğerinin alt kümesimi"
      ],
      "metadata": {
        "id": "Y8hbQnhiv5v9"
      }
    },
    {
      "cell_type": "code",
      "source": [
        "set1.issubset(set2)"
      ],
      "metadata": {
        "id": "6mDiDcXnv7yf",
        "colab": {
          "base_uri": "https://localhost:8080/"
        },
        "outputId": "e1a4559a-12d7-47ee-93f8-25a3cdc39ecb"
      },
      "execution_count": null,
      "outputs": [
        {
          "output_type": "execute_result",
          "data": {
            "text/plain": [
              "True"
            ]
          },
          "metadata": {},
          "execution_count": 61
        }
      ]
    }
  ]
}